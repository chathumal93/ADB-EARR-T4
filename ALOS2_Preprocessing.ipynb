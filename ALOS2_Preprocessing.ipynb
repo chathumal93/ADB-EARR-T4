{
  "nbformat": 4,
  "nbformat_minor": 0,
  "metadata": {
    "colab": {
      "provenance": [],
      "mount_file_id": "1ylO-BvWsxh2ncUmckuOL5zpL0IYEoZQG",
      "authorship_tag": "ABX9TyNFxP9GFnUT1YiY0f4sTUUp",
      "include_colab_link": true
    },
    "kernelspec": {
      "name": "python3",
      "display_name": "Python 3"
    },
    "language_info": {
      "name": "python"
    }
  },
  "cells": [
    {
      "cell_type": "markdown",
      "metadata": {
        "id": "view-in-github",
        "colab_type": "text"
      },
      "source": [
        "<a href=\"https://colab.research.google.com/github/chathumal93/ADB-EARR-T4/blob/main/ALOS2_Preprocessing.ipynb\" target=\"_parent\"><img src=\"https://colab.research.google.com/assets/colab-badge.svg\" alt=\"Open In Colab\"/></a>"
      ]
    },
    {
      "cell_type": "code",
      "source": [
        "%%capture\n",
        "!pip install rasterio\n",
        "!pip install pyproj"
      ],
      "metadata": {
        "id": "RHYX69LvPsBf"
      },
      "execution_count": 2,
      "outputs": []
    },
    {
      "cell_type": "code",
      "source": [
        "import os\n",
        "import glob\n",
        "from zipfile import ZipFile\n",
        "\n",
        "import rasterio\n",
        "\n",
        "from pyproj.aoi import AreaOfInterest\n",
        "from pyproj.database import query_utm_crs_info\n",
        "from rasterio.warp import calculate_default_transform, reproject, Resampling,transform_bounds\n",
        "\n",
        "import numpy as np\n",
        "\n",
        "from scipy.signal import medfilt2d"
      ],
      "metadata": {
        "id": "XSMx1xGe6O3i"
      },
      "execution_count": 24,
      "outputs": []
    },
    {
      "cell_type": "code",
      "source": [
        "image_directory = \"/content/drive/MyDrive/Flood_Data_Myanmar/Thai_Data\"\n",
        "\n",
        "# image_path = \"/content/drive/MyDrive/**/**.zip\"\n",
        "\n",
        "image_path = \"/content/drive/MyDrive/Flood_Data_Myanmar/Thai_Data/16c19b23-9422-4316-a261-d70575dbee32.zip\"\n",
        "\n",
        "output_directory = \"/content/Results\"\n",
        "\n",
        "\n",
        "\n",
        "temp_slope = \"\"\n",
        "\n",
        "temp_dem = \"\"\n"
      ],
      "metadata": {
        "id": "AOxLWiMjaQwX"
      },
      "execution_count": 3,
      "outputs": []
    },
    {
      "cell_type": "code",
      "source": [
        "if not os.path.exists(output_directory):   \n",
        "  os.makedirs(output_directory)\n",
        "with ZipFile(image_path, 'r') as zipObj:\n",
        "  listOfFileNames = zipObj.namelist()\n",
        "  for file_name in listOfFileNames:\n",
        "    if file_name.endswith('.tif'):  \n",
        "      zipObj.extract(file_name,output_directory)"
      ],
      "metadata": {
        "id": "eaAZtjSFkyJV"
      },
      "execution_count": 8,
      "outputs": []
    },
    {
      "cell_type": "code",
      "source": [
        "#@markdown Helper Functions\n",
        "\n",
        "def utm_finder(raster):\n",
        "\n",
        "  \"\"\"\n",
        "  Find the UTM EPSG code of a raster.\n",
        "  Arguments:  \n",
        "        raster: input raster path\n",
        "  Returns:\n",
        "        UTM EPSG code of the input raster\n",
        "  \"\"\"\n",
        "\n",
        "  with rasterio.open(raster) as dataset:\n",
        "    bbox  = dataset.bounds\n",
        "    bbox_wgs84 = rasterio.warp.transform_bounds(dataset.crs,'EPSG:4326', bbox[0],bbox[1],bbox[2],bbox[3])\n",
        "\n",
        "    utm_crs_list = query_utm_crs_info(     \n",
        "        datum_name=\"WGS 84\",\n",
        "        area_of_interest=AreaOfInterest(\n",
        "        west_lon_degree=bbox_wgs84[0],\n",
        "        south_lat_degree=bbox_wgs84[1],\n",
        "        east_lon_degree=bbox_wgs84[2],\n",
        "        north_lat_degree=bbox_wgs84[3],),) \n",
        "       \n",
        "    utm_crs = \"{}:{}\".format(utm_crs_list[0].auth_name,utm_crs_list[0].code) \n",
        "  return utm_crs\n",
        "\n",
        "\n",
        "def resample(raster,pixel_size,output_dir,output_name):\n",
        "\n",
        "  \"\"\"\n",
        "  \"\"\"\n",
        "\n",
        "  with rasterio.open(raster) as dataset:\n",
        "    kwargs = dataset.meta.copy()\n",
        "    # resample data to target shape\n",
        "    upscale_factor = dataset.transform[0]/pixel_size\n",
        "    \n",
        "    data = dataset.read(out_shape=(dataset.count,int(dataset.height * upscale_factor),int(dataset.width * upscale_factor)),resampling=Resampling.bilinear)\n",
        "    # scale image transform\n",
        "    transform = dataset.transform * dataset.transform.scale(\n",
        "        (dataset.width / data.shape[-1]),\n",
        "        (dataset.height / data.shape[-2]))\n",
        "    \n",
        "    # writing file to disk \n",
        "    kwargs.update({'crs': dst_crs,'transform': transform,'width': data.shape[2],'height': data.shape[1]})\n",
        "    with rasterio.open(os.path.join(output_dir,output_name), 'w', **kwargs) as dst:\n",
        "      dst.write(data[0], 1)\n",
        "\n",
        "\n",
        "\n"
      ],
      "metadata": {
        "cellView": "form",
        "id": "vAHEgzQxkzEd"
      },
      "execution_count": 18,
      "outputs": []
    },
    {
      "cell_type": "code",
      "source": [
        "file_list = glob.glob(os.path.join(output_directory,'*.tif'))\n",
        "\n",
        "file_list[0]"
      ],
      "metadata": {
        "colab": {
          "base_uri": "https://localhost:8080/",
          "height": 36
        },
        "id": "TaomUoWGqFlm",
        "outputId": "9947a2d4-1846-4b8b-a803-104016f9e150"
      },
      "execution_count": 20,
      "outputs": [
        {
          "output_type": "execute_result",
          "data": {
            "text/plain": [
              "'/content/Results/IMG-HV-ALOS2453343350-221015-WBDR2.1GUD.tif'"
            ],
            "application/vnd.google.colaboratory.intrinsic+json": {
              "type": "string"
            }
          },
          "metadata": {},
          "execution_count": 20
        }
      ]
    },
    {
      "cell_type": "code",
      "source": [
        "dst_crs = utm_finder(file_list[0])"
      ],
      "metadata": {
        "id": "JP8tYFoMrXUX"
      },
      "execution_count": 7,
      "outputs": []
    },
    {
      "cell_type": "code",
      "source": [
        "for file_path in glob.glob(os.path.join(output_directory,'*.tif')):\n",
        "\n",
        "  if os.path.basename(file_path).startswith('IMG-HV'):\n",
        "    print(os.path.basename(file_path).split(\".tif\")[0])\n",
        "    print(utm_finder(file_path))\n",
        "\n",
        "  if os.path.basename(file_path).startswith('IMG-HH'):\n",
        "    print(os.path.basename(file_path).split(\".tif\")[0])\n",
        "    print(utm_finder(file_path))\n",
        "    \n",
        "  else:\n",
        "    pass\n"
      ],
      "metadata": {
        "colab": {
          "base_uri": "https://localhost:8080/"
        },
        "id": "fg53ttf-fOs9",
        "outputId": "a23a6918-3999-447e-9d62-d661234d4975"
      },
      "execution_count": 36,
      "outputs": [
        {
          "output_type": "stream",
          "name": "stdout",
          "text": [
            "IMG-HV-ALOS2453343350-221015-WBDR2.1GUD\n",
            "EPSG:32647\n",
            "IMG-HH-ALOS2453343350-221015-WBDR2.1GUD\n",
            "EPSG:32647\n"
          ]
        }
      ]
    },
    {
      "cell_type": "code",
      "source": [
        "resample(file_list[0],30,output_directory,'resample.tif')"
      ],
      "metadata": {
        "id": "BIwgxYxKTDFk"
      },
      "execution_count": 22,
      "outputs": []
    },
    {
      "cell_type": "code",
      "source": [
        "def calibration(raster,output_dir,output_name):\n",
        "\n",
        "  \"\"\"\n",
        "\n",
        "  \"\"\"\n",
        "\n",
        "  with rasterio.open(raster) as dataset:\n",
        "\n",
        "    # tranformation calculation for UTM reprojection\n",
        "    transform, width, height = calculate_default_transform(dataset.crs, dst_crs, dataset.width, dataset.height, *dataset.bounds)\n",
        "    kwargs = dataset.meta.copy()\n",
        "    kwargs.update({\n",
        "        'crs': dst_crs,\n",
        "        'transform': transform,\n",
        "        'width': width,\n",
        "        'height': height,\n",
        "        'compress': 'lzw',\n",
        "        'dtype':'float32',\n",
        "        'nodata':np.nan})\n",
        "    \n",
        "    # Calibration\n",
        "    band = dataset.read(1)\n",
        "    band = np.float32(np.where(band == 0, np.nan, band))\n",
        "    band_calib = 20*np.log10(band)-83\n",
        "\n",
        "    # Filtering\n",
        "    med =  medfilt2d(band_calib, kernel_size=3)\n",
        "                  \n",
        "    with rasterio.open(os.path.join(output_dir,output_name), \"w\", **kwargs) as dst:\n",
        "      for i in range(1, dataset.count + 1):\n",
        "          reproject(\n",
        "              source=med,\n",
        "              destination=rasterio.band(dst, i),\n",
        "              src_transform=dataset.transform,\n",
        "              src_crs=dataset.crs,\n",
        "              dst_transform=transform,\n",
        "              dst_crs=utm_finder(raster),\n",
        "              resampling=Resampling.nearest)\n"
      ],
      "metadata": {
        "id": "0w-kuAmzV9hk"
      },
      "execution_count": 25,
      "outputs": []
    },
    {
      "cell_type": "code",
      "source": [
        "calibration('/content/Results/resample.tif',image_directory,'calib_reporj.tif')"
      ],
      "metadata": {
        "id": "eoTlEjsnaGoE"
      },
      "execution_count": 27,
      "outputs": []
    },
    {
      "cell_type": "code",
      "source": [
        "# 30m resolution"
      ],
      "metadata": {
        "id": "maR3eQkEj5GO"
      },
      "execution_count": null,
      "outputs": []
    }
  ]
}